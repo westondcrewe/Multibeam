{
 "cells": [
  {
   "cell_type": "code",
   "execution_count": 2,
   "metadata": {},
   "outputs": [],
   "source": [
    "# IMPORTS\n",
    "import pandas as pd\n",
    "import numpy as np\n",
    "import matplotlib as mpl\n",
    "import matplotlib.pyplot as plt\n",
    "import seaborn as sns\n",
    "from collections import defaultdict\n",
    "import json\n",
    "import statistics as stat\n",
    "from collections import deque"
   ]
  },
  {
   "cell_type": "code",
   "execution_count": 3,
   "metadata": {},
   "outputs": [
    {
     "name": "stdout",
     "output_type": "stream",
     "text": [
      "data/MEBL3/MEBL3_Pressure-data-2024-06-28 09_40_08.csv : file read into a pandas dataframe.\n"
     ]
    },
    {
     "data": {
      "text/html": [
       "<div>\n",
       "<style scoped>\n",
       "    .dataframe tbody tr th:only-of-type {\n",
       "        vertical-align: middle;\n",
       "    }\n",
       "\n",
       "    .dataframe tbody tr th {\n",
       "        vertical-align: top;\n",
       "    }\n",
       "\n",
       "    .dataframe thead th {\n",
       "        text-align: right;\n",
       "    }\n",
       "</style>\n",
       "<table border=\"1\" class=\"dataframe\">\n",
       "  <thead>\n",
       "    <tr style=\"text-align: right;\">\n",
       "      <th></th>\n",
       "      <th>Time</th>\n",
       "      <th>Chamber Pressure</th>\n",
       "      <th>Column Pressure</th>\n",
       "    </tr>\n",
       "  </thead>\n",
       "  <tbody>\n",
       "    <tr>\n",
       "      <th>0</th>\n",
       "      <td>2024-06-14 01:55:29</td>\n",
       "      <td>1.850000e-07</td>\n",
       "      <td>5.550000e-10</td>\n",
       "    </tr>\n",
       "    <tr>\n",
       "      <th>1</th>\n",
       "      <td>2024-06-14 01:55:30</td>\n",
       "      <td>1.840000e-07</td>\n",
       "      <td>5.670000e-10</td>\n",
       "    </tr>\n",
       "    <tr>\n",
       "      <th>2</th>\n",
       "      <td>2024-06-14 01:55:31</td>\n",
       "      <td>1.830000e-07</td>\n",
       "      <td>5.540000e-10</td>\n",
       "    </tr>\n",
       "    <tr>\n",
       "      <th>3</th>\n",
       "      <td>2024-06-14 01:55:32</td>\n",
       "      <td>1.800000e-07</td>\n",
       "      <td>5.610000e-10</td>\n",
       "    </tr>\n",
       "    <tr>\n",
       "      <th>4</th>\n",
       "      <td>2024-06-14 01:55:33</td>\n",
       "      <td>1.810000e-07</td>\n",
       "      <td>5.490000e-10</td>\n",
       "    </tr>\n",
       "    <tr>\n",
       "      <th>...</th>\n",
       "      <td>...</td>\n",
       "      <td>...</td>\n",
       "      <td>...</td>\n",
       "    </tr>\n",
       "    <tr>\n",
       "      <th>1059524</th>\n",
       "      <td>2024-06-27 23:59:54</td>\n",
       "      <td>1.650000e-07</td>\n",
       "      <td>3.380000e-10</td>\n",
       "    </tr>\n",
       "    <tr>\n",
       "      <th>1059525</th>\n",
       "      <td>2024-06-27 23:59:55</td>\n",
       "      <td>1.630000e-07</td>\n",
       "      <td>3.370000e-10</td>\n",
       "    </tr>\n",
       "    <tr>\n",
       "      <th>1059526</th>\n",
       "      <td>2024-06-27 23:59:56</td>\n",
       "      <td>1.640000e-07</td>\n",
       "      <td>3.410000e-10</td>\n",
       "    </tr>\n",
       "    <tr>\n",
       "      <th>1059527</th>\n",
       "      <td>2024-06-27 23:59:57</td>\n",
       "      <td>1.650000e-07</td>\n",
       "      <td>3.380000e-10</td>\n",
       "    </tr>\n",
       "    <tr>\n",
       "      <th>1059528</th>\n",
       "      <td>2024-06-27 23:59:58</td>\n",
       "      <td>1.640000e-07</td>\n",
       "      <td>3.400000e-10</td>\n",
       "    </tr>\n",
       "  </tbody>\n",
       "</table>\n",
       "<p>1059529 rows × 3 columns</p>\n",
       "</div>"
      ],
      "text/plain": [
       "                       Time  Chamber Pressure  Column Pressure\n",
       "0       2024-06-14 01:55:29      1.850000e-07     5.550000e-10\n",
       "1       2024-06-14 01:55:30      1.840000e-07     5.670000e-10\n",
       "2       2024-06-14 01:55:31      1.830000e-07     5.540000e-10\n",
       "3       2024-06-14 01:55:32      1.800000e-07     5.610000e-10\n",
       "4       2024-06-14 01:55:33      1.810000e-07     5.490000e-10\n",
       "...                     ...               ...              ...\n",
       "1059524 2024-06-27 23:59:54      1.650000e-07     3.380000e-10\n",
       "1059525 2024-06-27 23:59:55      1.630000e-07     3.370000e-10\n",
       "1059526 2024-06-27 23:59:56      1.640000e-07     3.410000e-10\n",
       "1059527 2024-06-27 23:59:57      1.650000e-07     3.380000e-10\n",
       "1059528 2024-06-27 23:59:58      1.640000e-07     3.400000e-10\n",
       "\n",
       "[1059529 rows x 3 columns]"
      ]
     },
     "execution_count": 3,
     "metadata": {},
     "output_type": "execute_result"
    }
   ],
   "source": [
    "# READ IN DATA AS PANDAS DATAFRAME\n",
    "filename = 'data/MEBL3/MEBL3_Pressure-data-2024-06-28 09_40_08.csv'\n",
    "pressure_df = pd.read_csv(filename, parse_dates=['Time']).fillna(0)    \n",
    "print(f\"{filename} : file read into a pandas dataframe.\")\n",
    "\n",
    "pressure_df"
   ]
  },
  {
   "cell_type": "code",
   "execution_count": 4,
   "metadata": {},
   "outputs": [
    {
     "data": {
      "text/plain": [
       "array([[Timestamp('2024-06-14 01:55:29'), 1.85e-07, 5.55e-10],\n",
       "       [Timestamp('2024-06-14 01:55:30'), 1.84e-07, 5.67e-10],\n",
       "       [Timestamp('2024-06-14 01:55:31'), 1.83e-07, 5.54e-10],\n",
       "       ...,\n",
       "       [Timestamp('2024-06-27 23:59:56'), 1.64e-07, 3.41e-10],\n",
       "       [Timestamp('2024-06-27 23:59:57'), 1.65e-07, 3.38e-10],\n",
       "       [Timestamp('2024-06-27 23:59:58'), 1.64e-07, 3.4e-10]],\n",
       "      dtype=object)"
      ]
     },
     "execution_count": 4,
     "metadata": {},
     "output_type": "execute_result"
    }
   ],
   "source": [
    "# CONVERT TO NUMPY ARRAY\n",
    "pressure_arr = pressure_df.to_numpy()\n",
    "pressure_arr"
   ]
  },
  {
   "cell_type": "code",
   "execution_count": 5,
   "metadata": {},
   "outputs": [
    {
     "data": {
      "text/plain": [
       "array([[0, 1, 2, 3, 4, 5, 6, 7, 8, 9],\n",
       "       [3, 2, 5, 1, 8, 4, 0, 9, 6, 7]])"
      ]
     },
     "execution_count": 5,
     "metadata": {},
     "output_type": "execute_result"
    }
   ],
   "source": [
    "x = np.array([[0, 1, 2, 3, 4, 5, 6, 7, 8, 9],\n",
    "             [3, 2, 5, 1, 8, 4, 0, 9, 6, 7]])\n",
    "x"
   ]
  },
  {
   "cell_type": "code",
   "execution_count": 6,
   "metadata": {},
   "outputs": [
    {
     "name": "stdout",
     "output_type": "stream",
     "text": [
      "[3, 2, 5, 1, 8]\n",
      "local_mean=3\n",
      "[2, 5, 1, 8, 4]\n",
      "local_mean=4\n",
      "[5, 1, 8, 4, 0]\n",
      "local_mean=4\n",
      "[1, 8, 4, 0, 9]\n",
      "local_mean=4\n",
      "[8, 4, 0, 9, 6]\n",
      "local_mean=6\n",
      "[4, 0, 9, 6, 7]\n",
      "local_mean=6\n"
     ]
    }
   ],
   "source": [
    "queue = []\n",
    "for row_idx in range(len(x[0])):\n",
    "    queue.append(x[1][row_idx])\n",
    "    if len(queue) < 5:\n",
    "        continue\n",
    "    elif len(queue) > 5:\n",
    "        queue.pop(0)\n",
    "    print(queue)\n",
    "    local_mean = stat.median(queue)\n",
    "    print(f\"{local_mean=}\")"
   ]
  },
  {
   "cell_type": "code",
   "execution_count": 7,
   "metadata": {},
   "outputs": [
    {
     "data": {
      "text/plain": [
       "'\\nfor type_idx, type in enumerate([\"chamber\", \"column\"]):\\n    pressure_deque = []\\n    spike_times = []\\n    for row_idx in range(len(pressure_arr)): #O(n)\\n        pressure_value = pressure_arr[row_idx][type_idx+1]\\n        pressure_deque.append(pressure_value)\\n        if len(pressure_deque) < 5:\\n            continue\\n        elif len(pressure_deque) > 5:\\n            pressure_deque.pop(0) # don\\'t know runtime of list.pop(), but size of pressure_queue is at most 6 so negligible\\n        local_mean = np.mean(pressure_deque) # np.mean > stat.mean for speed but not precision\\n        if pressure_value > 2*local_mean:\\n            spike_time = str(pressure_arr[row_idx][0])\\n            print(f\"{spike_time=} : {pressure_value}\")\\n            print(f\"{pressure_deque=}\")\\n            spike_times.append(spike_time)\\n    with open(f\"data/pressure_spike_times/{type}_spike_times.json\", \"w\") as outfile: \\n        json.dump(spike_times, outfile)\\n'"
      ]
     },
     "execution_count": 7,
     "metadata": {},
     "output_type": "execute_result"
    }
   ],
   "source": [
    "# PRESSURE SPIKE SCRIPT 1\n",
    "## strung out because ~10x slower than script 2\n",
    "'''\n",
    "for type_idx, type in enumerate([\"chamber\", \"column\"]):\n",
    "    pressure_deque = []\n",
    "    spike_times = []\n",
    "    for row_idx in range(len(pressure_arr)): #O(n)\n",
    "        pressure_value = pressure_arr[row_idx][type_idx+1]\n",
    "        pressure_deque.append(pressure_value)\n",
    "        if len(pressure_deque) < 5:\n",
    "            continue\n",
    "        elif len(pressure_deque) > 5:\n",
    "            pressure_deque.pop(0) # don't know runtime of list.pop(), but size of pressure_queue is at most 6 so negligible\n",
    "        local_mean = np.mean(pressure_deque) # np.mean > stat.mean for speed but not precision\n",
    "        if pressure_value > 2*local_mean:\n",
    "            spike_time = str(pressure_arr[row_idx][0])\n",
    "            print(f\"{spike_time=} : {pressure_value}\")\n",
    "            print(f\"{pressure_deque=}\")\n",
    "            spike_times.append(spike_time)\n",
    "    with open(f\"data/pressure_spike_times/{type}_spike_times.json\", \"w\") as outfile: \n",
    "        json.dump(spike_times, outfile)\n",
    "'''\n",
    "# 5 seconds"
   ]
  },
  {
   "cell_type": "code",
   "execution_count": 15,
   "metadata": {},
   "outputs": [
    {
     "name": "stdout",
     "output_type": "stream",
     "text": [
      "spike_time='2024-06-15 07:02:55' : pressure_deque=deque([1.83e-07, 1.78e-07, 1.81e-07, 1.84e-07, 1.82e-07], maxlen=5)\n",
      "    pressure_value=7e-07, local_mean=1.8160000000000184e-07\n",
      "spike_time='2024-06-17 07:03:28' : pressure_deque=deque([4.75e-10, 4.77e-10, 4.81e-10, 4.74e-10, 4.73e-10], maxlen=5)\n",
      "    pressure_value=1.04e-08, local_mean=4.759999999999911e-10\n",
      "spike_time='2024-06-17 16:45:07' : pressure_deque=deque([4.79e-10, 4.85e-10, 4.83e-10, 4.75e-10, 4.79e-10], maxlen=5)\n",
      "    pressure_value=2.68e-09, local_mean=4.801999999999869e-10\n",
      "spike_time='2024-06-22 18:50:10' : pressure_deque=deque([4.8e-10, 4.79e-10, 4.75e-10, 4.8e-10, 4.77e-10], maxlen=5)\n",
      "    pressure_value=4.37e-09, local_mean=4.781999999999483e-10\n",
      "spike_time='2024-06-23 06:34:54' : pressure_deque=deque([4.75e-10, 4.75e-10, 4.73e-10, 4.81e-10, 4.79e-10], maxlen=5)\n",
      "    pressure_value=2.36e-09, local_mean=4.765999999999495e-10\n",
      "spike_time='2024-06-23 06:35:05' : pressure_deque=deque([6.28e-10, 6.13e-10, 6.07e-10, 5.97e-10, 5.82e-10], maxlen=5)\n",
      "    pressure_value=2.8e-08, local_mean=6.053999999999493e-10\n",
      "spike_time='2024-06-23 06:35:31' : pressure_deque=deque([7.5e-10, 7.39e-10, 7.39e-10, 7.28e-10, 7.19e-10], maxlen=5)\n",
      "    pressure_value=2.08e-09, local_mean=7.349999999999493e-10\n",
      "spike_time='2024-06-23 07:06:12' : pressure_deque=deque([4.81e-10, 4.81e-10, 4.83e-10, 4.79e-10, 4.8e-10], maxlen=5)\n",
      "    pressure_value=1.54e-09, local_mean=4.8079999999995e-10\n",
      "spike_time='2024-06-25 01:44:55' : pressure_deque=deque([4.8e-10, 4.8e-10, 4.77e-10, 4.79e-10, 4.75e-10], maxlen=5)\n",
      "    pressure_value=1.85e-08, local_mean=4.781999999999463e-10\n",
      "spike_time='2024-06-26 18:52:32' : pressure_deque=deque([4.7e-10, 4.64e-10, 4.58e-10, 4.63e-10, 4.59e-10], maxlen=5)\n",
      "    pressure_value=1.54e-09, local_mean=4.627999999999159e-10\n"
     ]
    }
   ],
   "source": [
    "# PRESSURE SPIKE SCRIPT 2\n",
    "## difference: running tally of sum, manually calculate mean from rolling sum (no use of np.mean())\n",
    "time_range = 5\n",
    "for type_idx, type in enumerate([\"chamber\", \"column\"]):\n",
    "    spike_times = []\n",
    "    pressure_deque = deque(maxlen=time_range) # time_range seconds previous to curr pressure val\n",
    "    sum_pressure = 0\n",
    "    for row_idx in range(len(pressure_arr)-1): # each loop looks to next value to see if it is a spike\n",
    "        #print(f\"{row_idx=}\")\n",
    "        pressure_value = pressure_arr[row_idx][type_idx + 1]\n",
    "        #print(f\"    {pressure_deque=}\")\n",
    "        #print(f\"    {pressure_value=}\")\n",
    "        queue_len = len(pressure_deque)\n",
    "        if queue_len < time_range: # case succeeds for first 4 iterations only, while deque not filled\n",
    "            sum_pressure += pressure_value\n",
    "            pressure_deque.append(pressure_value)\n",
    "            #print(f\"    {pressure_deque=}\")\n",
    "            continue\n",
    "        elif queue_len == time_range:\n",
    "            local_mean = sum_pressure / time_range\n",
    "            #print(f\"    {local_mean=}\")\n",
    "        if pressure_value > 2 * local_mean:\n",
    "            spike_time = str(pressure_arr[row_idx][0])\n",
    "            print(f\"{spike_time=} : {pressure_deque=}\")\n",
    "            print(f\"    {pressure_value=}, {local_mean=}\")\n",
    "            spike_times.append(spike_time)\n",
    "        sum_pressure -= pressure_deque.popleft()\n",
    "        sum_pressure += pressure_value\n",
    "        pressure_deque.append(pressure_value)\n",
    "    with open(f\"data/pressure_spike_times/{type}_spike_times.json\", \"w\") as outfile:\n",
    "        json.dump(spike_times, outfile)\n",
    "\n",
    "### QUESTION, ARE PRESSURE SPIKES DEFINED BY JUST THE INCREASE OR WILL THERE ALSO BE A SHARP DECREASE AFTERWARDS\n",
    "### May need to make rolling window threshold computation apply to the middle value in the deque\n",
    "### Also, 0.6 seconds ?!?!"
   ]
  }
 ],
 "metadata": {
  "kernelspec": {
   "display_name": "Python 3",
   "language": "python",
   "name": "python3"
  },
  "language_info": {
   "codemirror_mode": {
    "name": "ipython",
    "version": 3
   },
   "file_extension": ".py",
   "mimetype": "text/x-python",
   "name": "python",
   "nbconvert_exporter": "python",
   "pygments_lexer": "ipython3",
   "version": "3.12.4"
  }
 },
 "nbformat": 4,
 "nbformat_minor": 2
}
