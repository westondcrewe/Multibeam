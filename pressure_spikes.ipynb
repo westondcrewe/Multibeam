{
 "cells": [
  {
   "cell_type": "code",
   "execution_count": 1,
   "metadata": {},
   "outputs": [],
   "source": [
    "# IMPORTS\n",
    "import pandas as pd\n",
    "import numpy as np\n",
    "import matplotlib as mpl\n",
    "import matplotlib.pyplot as plt\n",
    "import seaborn as sns\n",
    "from collections import defaultdict\n",
    "import json\n",
    "import statistics as stat\n",
    "from collections import deque"
   ]
  },
  {
   "cell_type": "code",
   "execution_count": 1,
   "metadata": {},
   "outputs": [
    {
     "ename": "NameError",
     "evalue": "name 'pd' is not defined",
     "output_type": "error",
     "traceback": [
      "\u001b[0;31m---------------------------------------------------------------------------\u001b[0m",
      "\u001b[0;31mNameError\u001b[0m                                 Traceback (most recent call last)",
      "Cell \u001b[0;32mIn[1], line 3\u001b[0m\n\u001b[1;32m      1\u001b[0m \u001b[38;5;66;03m# READ IN DATA AS PANDAS DATAFRAME\u001b[39;00m\n\u001b[1;32m      2\u001b[0m filename \u001b[38;5;241m=\u001b[39m \u001b[38;5;124m'\u001b[39m\u001b[38;5;124mdata/MEBL3/MEBL3_Pressure-data-2024-06-28 09_40_08.csv\u001b[39m\u001b[38;5;124m'\u001b[39m\n\u001b[0;32m----> 3\u001b[0m pressure_df \u001b[38;5;241m=\u001b[39m \u001b[43mpd\u001b[49m\u001b[38;5;241m.\u001b[39mread_csv(filename, parse_dates\u001b[38;5;241m=\u001b[39m[\u001b[38;5;124m'\u001b[39m\u001b[38;5;124mTime\u001b[39m\u001b[38;5;124m'\u001b[39m])\u001b[38;5;241m.\u001b[39mfillna(\u001b[38;5;241m0\u001b[39m)    \n\u001b[1;32m      4\u001b[0m \u001b[38;5;28mprint\u001b[39m(\u001b[38;5;124mf\u001b[39m\u001b[38;5;124m\"\u001b[39m\u001b[38;5;132;01m{\u001b[39;00mfilename\u001b[38;5;132;01m}\u001b[39;00m\u001b[38;5;124m : file read into a pandas dataframe.\u001b[39m\u001b[38;5;124m\"\u001b[39m)\n\u001b[1;32m      6\u001b[0m pressure_df\n",
      "\u001b[0;31mNameError\u001b[0m: name 'pd' is not defined"
     ]
    }
   ],
   "source": [
    "# READ IN DATA AS PANDAS DATAFRAME\n",
    "filename = 'data/MEBL3/MEBL3_Pressure-data-2024-06-28 09_40_08.csv'\n",
    "pressure_df = pd.read_csv(filename, parse_dates=['Time']).fillna(0)    \n",
    "print(f\"{filename} : file read into a pandas dataframe.\")\n",
    "\n",
    "pressure_df"
   ]
  },
  {
   "cell_type": "code",
   "execution_count": 3,
   "metadata": {},
   "outputs": [
    {
     "data": {
      "text/plain": [
       "array([[Timestamp('2024-06-14 01:55:29'), 1.85e-07, 5.55e-10],\n",
       "       [Timestamp('2024-06-14 01:55:30'), 1.84e-07, 5.67e-10],\n",
       "       [Timestamp('2024-06-14 01:55:31'), 1.83e-07, 5.54e-10],\n",
       "       ...,\n",
       "       [Timestamp('2024-06-27 23:59:56'), 1.64e-07, 3.41e-10],\n",
       "       [Timestamp('2024-06-27 23:59:57'), 1.65e-07, 3.38e-10],\n",
       "       [Timestamp('2024-06-27 23:59:58'), 1.64e-07, 3.4e-10]],\n",
       "      dtype=object)"
      ]
     },
     "execution_count": 3,
     "metadata": {},
     "output_type": "execute_result"
    }
   ],
   "source": [
    "# CONVERT TO NUMPY ARRAY\n",
    "pressure_arr = pressure_df.to_numpy()\n",
    "pressure_arr"
   ]
  },
  {
   "cell_type": "code",
   "execution_count": 4,
   "metadata": {},
   "outputs": [
    {
     "data": {
      "text/plain": [
       "array([[0, 1, 2, 3, 4, 5, 6, 7, 8, 9],\n",
       "       [3, 2, 5, 1, 8, 4, 0, 9, 6, 7]])"
      ]
     },
     "execution_count": 4,
     "metadata": {},
     "output_type": "execute_result"
    }
   ],
   "source": [
    "x = np.array([[0, 1, 2, 3, 4, 5, 6, 7, 8, 9],\n",
    "             [3, 2, 5, 1, 8, 4, 0, 9, 6, 7]])\n",
    "x"
   ]
  },
  {
   "cell_type": "code",
   "execution_count": 5,
   "metadata": {},
   "outputs": [
    {
     "name": "stdout",
     "output_type": "stream",
     "text": [
      "[3, 2, 5, 1, 8]\n",
      "local_mean=3\n",
      "[2, 5, 1, 8, 4]\n",
      "local_mean=4\n",
      "[5, 1, 8, 4, 0]\n",
      "local_mean=4\n",
      "[1, 8, 4, 0, 9]\n",
      "local_mean=4\n",
      "[8, 4, 0, 9, 6]\n",
      "local_mean=6\n",
      "[4, 0, 9, 6, 7]\n",
      "local_mean=6\n"
     ]
    }
   ],
   "source": [
    "queue = []\n",
    "for row_idx in range(len(x[0])):\n",
    "    queue.append(x[1][row_idx])\n",
    "    if len(queue) < 5:\n",
    "        continue\n",
    "    elif len(queue) > 5:\n",
    "        queue.pop(0)\n",
    "    print(queue)\n",
    "    local_mean = stat.median(queue)\n",
    "    print(f\"{local_mean=}\")"
   ]
  },
  {
   "cell_type": "code",
   "execution_count": null,
   "metadata": {},
   "outputs": [],
   "source": [
    "# PRESSURE SPIKE SCRIPT 1\n",
    "## strung out because ~10x slower than script 2\n",
    "'''\n",
    "for type_idx, type in enumerate([\"chamber\", \"column\"]):\n",
    "    pressure_deque = []\n",
    "    spike_times = []\n",
    "    for row_idx in range(len(pressure_arr)): #O(n)\n",
    "        pressure_value = pressure_arr[row_idx][type_idx+1]\n",
    "        pressure_deque.append(pressure_value)\n",
    "        if len(pressure_deque) < 5:\n",
    "            continue\n",
    "        elif len(pressure_deque) > 5:\n",
    "            pressure_deque.pop(0) # don't know runtime of list.pop(), but size of pressure_queue is at most 6 so negligible\n",
    "        local_mean = np.mean(pressure_deque) # np.mean > stat.mean for speed but not precision\n",
    "        if pressure_value > 2*local_mean:\n",
    "            spike_time = str(pressure_arr[row_idx][0])\n",
    "            print(f\"{spike_time=} : {pressure_value}\")\n",
    "            print(f\"{pressure_deque=}\")\n",
    "            spike_times.append(spike_time)\n",
    "    with open(f\"data/pressure_spike_times/{type}_spike_times.json\", \"w\") as outfile: \n",
    "        json.dump(spike_times, outfile)\n",
    "'''\n",
    "# 5 seconds"
   ]
  },
  {
   "cell_type": "code",
   "execution_count": 9,
   "metadata": {},
   "outputs": [
    {
     "name": "stdout",
     "output_type": "stream",
     "text": [
      "spike_time='2024-06-15 07:02:55' : 7e-07\n",
      "spike_time='2024-06-17 07:03:28' : 1.04e-08\n",
      "spike_time='2024-06-17 16:45:07' : 2.68e-09\n",
      "spike_time='2024-06-22 18:50:10' : 4.37e-09\n",
      "spike_time='2024-06-23 06:34:54' : 2.36e-09\n",
      "spike_time='2024-06-23 06:35:05' : 2.8e-08\n",
      "spike_time='2024-06-23 06:35:31' : 2.08e-09\n",
      "spike_time='2024-06-23 07:06:12' : 1.54e-09\n",
      "spike_time='2024-06-25 01:44:55' : 1.85e-08\n",
      "spike_time='2024-06-26 18:52:32' : 1.54e-09\n"
     ]
    }
   ],
   "source": [
    "# PRESSURE SPIKE SCRIPT 2\n",
    "## difference: running tally of sum, manually calculate mean from rolling sum (no use of np.mean())\n",
    "time_range = 5\n",
    "for type_idx, type in enumerate([\"chamber\", \"column\"]):\n",
    "    spike_times = []\n",
    "    pressure_deque = deque(maxlen=5)\n",
    "    sum_pressure = 0\n",
    "    for row_idx in range(len(pressure_arr)):\n",
    "        pressure_value = pressure_arr[row_idx][type_idx + 1]\n",
    "        queue_len = len(pressure_deque)\n",
    "        if queue_len == 5:\n",
    "            sum_pressure -= pressure_deque.popleft()\n",
    "        pressure_deque.append(pressure_value)\n",
    "        sum_pressure += pressure_value\n",
    "        if queue_len < 5:\n",
    "            continue\n",
    "        local_mean = sum_pressure / 5\n",
    "        if pressure_value > 2 * local_mean:\n",
    "            spike_time = str(pressure_arr[row_idx][0])\n",
    "            print(f\"{spike_time=} : {pressure_value}\")\n",
    "            spike_times.append(spike_time)\n",
    "    with open(f\"data/pressure_spike_times/{type}_spike_times.json\", \"w\") as outfile:\n",
    "        json.dump(spike_times, outfile)\n",
    "\n",
    "### QUESTION, ARE PRESSURE SPIKES DEFINED BY JUST THE INCREASE OR WILL THERE ALSO BE A SHARP DECREASE AFTERWARDS\n",
    "### May need to make rolling window threshold computation apply to the middle value in the deque\n",
    "### Also, 0.6 seconds ?!?!"
   ]
  }
 ],
 "metadata": {
  "kernelspec": {
   "display_name": "Python 3",
   "language": "python",
   "name": "python3"
  },
  "language_info": {
   "codemirror_mode": {
    "name": "ipython",
    "version": 3
   },
   "file_extension": ".py",
   "mimetype": "text/x-python",
   "name": "python",
   "nbconvert_exporter": "python",
   "pygments_lexer": "ipython3",
   "version": "3.12.4"
  }
 },
 "nbformat": 4,
 "nbformat_minor": 2
}
